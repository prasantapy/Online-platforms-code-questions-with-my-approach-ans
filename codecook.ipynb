{
 "cells": [
  {
   "cell_type": "code",
   "execution_count": null,
   "id": "81c101d4",
   "metadata": {},
   "outputs": [
    {
     "name": "stdout",
     "output_type": "stream",
     "text": [
      "Yes\n",
      "Yes\n",
      "Yes\n"
     ]
    }
   ],
   "source": [
    "#https://basecamp.eolymp.com/en/problems/4733\n",
    "\n",
    "n=input().strip()  \n",
    "if(int(n[-1])%2==0):\n",
    "    print('Yes')\n",
    "else:\n",
    "    print('No')\n",
    "if (int(n[-2:])%4==0):\n",
    "    print('Yes')\n",
    "else:\n",
    "    print('No')\n",
    "if (int(n[-3:])%8==0):\n",
    "    print('Yes')\n",
    "else:\n",
    "    print('No')\n"
   ]
  },
  {
   "cell_type": "code",
   "execution_count": 2,
   "id": "042a9a4b",
   "metadata": {},
   "outputs": [
    {
     "name": "stdout",
     "output_type": "stream",
     "text": [
      "120\n"
     ]
    }
   ],
   "source": [
    "#https://www.codechef.com/problems/FLOW017\n",
    "'''3 \n",
    "120 11 400'''\n",
    "t=int(input('enter numebr: '))\n",
    "for _ in range(t):\n",
    "    A,B,C=map(int,input().split())\n",
    "    numebrs=[A,B,C]\n",
    "    numebrs.sort()\n",
    "print(numebrs[-2])"
   ]
  },
  {
   "cell_type": "code",
   "execution_count": 3,
   "id": "1317584d",
   "metadata": {},
   "outputs": [
    {
     "name": "stdout",
     "output_type": "stream",
     "text": [
      "2\n",
      "3\n",
      "2\n"
     ]
    }
   ],
   "source": [
    "#https://basecamp.eolymp.com/en/problems/935\n",
    "n = int(input())\n",
    "for i in str(abs(n)):\n",
    "    print(i)"
   ]
  },
  {
   "cell_type": "code",
   "execution_count": 2,
   "id": "60cd1d54",
   "metadata": {},
   "outputs": [
    {
     "name": "stdout",
     "output_type": "stream",
     "text": [
      "NO\n",
      "YES\n",
      "YES\n"
     ]
    }
   ],
   "source": [
    "#https://www.codechef.com/problems/TIMELY\n",
    "t=int(input())\n",
    "for _ in range(t):\n",
    "    x=int(input())\n",
    "    if x>29:\n",
    "        print('YES')\n",
    "    else:\n",
    "        print('NO')"
   ]
  },
  {
   "cell_type": "code",
   "execution_count": null,
   "id": "26e2f6ce",
   "metadata": {},
   "outputs": [],
   "source": [
    "#https://basecamp.eolymp.com/en/problems/8638\n",
    "n = int(input())\n",
    "res=str(n)\n",
    "new='3'+res+'3'\n",
    "print(new)\n",
    "#approach-2\n",
    "#print('3'+input()+'3')"
   ]
  },
  {
   "cell_type": "code",
   "execution_count": null,
   "id": "ff5c57c6",
   "metadata": {},
   "outputs": [
    {
     "name": "stdout",
     "output_type": "stream",
     "text": [
      "8\n",
      "89\n",
      "891\n"
     ]
    }
   ],
   "source": [
    "\n",
    "#https://basecamp.eolymp.com/en/problems/949\n"
   ]
  },
  {
   "cell_type": "code",
   "execution_count": null,
   "id": "058350c4",
   "metadata": {},
   "outputs": [],
   "source": [
    "#https://basecamp.eolymp.com/en/problems/8243 \n",
    "#approch\n",
    "'''n=int(input())\n",
    "new=abs(n)\n",
    "frist_=str(new)[0]\n",
    "print(frist_)'''\n",
    "#approach- 2\n",
    "print(str(abs(int(input())))[0])\n"
   ]
  },
  {
   "cell_type": "code",
   "execution_count": null,
   "id": "7be289df",
   "metadata": {},
   "outputs": [],
   "source": [
    "#https://www.codechef.com/problems/HS08TEST\n",
    "x,y=map(float,input().split())\n",
    "if x%5==0 and x+0.50 <=y:\n",
    "    y=y-x-0.50\n",
    "print(y)"
   ]
  },
  {
   "cell_type": "code",
   "execution_count": null,
   "id": "04e02898",
   "metadata": {},
   "outputs": [],
   "source": [
    "#https://www.codechef.com/problems/DIFFSUM\n",
    "N1,N2=map(int(input().split()))\n",
    "N1, N2 = map(int, input().split())\n",
    "#approch -1\n",
    "print((N1-N2) if (N1>N2) else (N1+N2))\n",
    "#approach 2\n",
    "'''if N1>N2:\n",
    "    print(N1-N2)\n",
    "else:\n",
    "    print(N1+N2)'''"
   ]
  },
  {
   "cell_type": "code",
   "execution_count": null,
   "id": "47cd4653",
   "metadata": {},
   "outputs": [
    {
     "name": "stdout",
     "output_type": "stream",
     "text": [
      "50\n",
      "50\n"
     ]
    }
   ],
   "source": [
    "#https://www.codechef.com/problems/BESTOFTWO\n",
    "t=int(input())\n",
    "for x in range(t):\n",
    "    x,y=map(int,input().split())\n",
    "    if x>=y:\n",
    "        print(x)\n",
    "    else:\n",
    "        print(y)"
   ]
  },
  {
   "cell_type": "code",
   "execution_count": 11,
   "id": "0d760e8d",
   "metadata": {},
   "outputs": [
    {
     "name": "stdout",
     "output_type": "stream",
     "text": [
      "[10, 20, 30, 'p', 'y', 't', 'h', 'o', 'n']\n"
     ]
    }
   ],
   "source": [
    "x=[10,20,30]\n",
    "x.extend('python')\n",
    "print(x)"
   ]
  },
  {
   "cell_type": "code",
   "execution_count": null,
   "id": "628a8f9b",
   "metadata": {},
   "outputs": [],
   "source": [
    "R,C,E=map(int,input().split())\n",
    "if E>1:\n",
    "    \n",
    "    A=R*C\n",
    "    B=R+E\n",
    "    print(B*10)\n",
    "else:\n",
    "    A=R*C\n",
    "    B=R+E\n",
    "    print(B*2)"
   ]
  },
  {
   "cell_type": "code",
   "execution_count": null,
   "id": "c14e49cf",
   "metadata": {},
   "outputs": [
    {
     "name": "stdout",
     "output_type": "stream",
     "text": [
      "90\n"
     ]
    }
   ],
   "source": [
    "#https://www.codechef.com/practice/course/javascript/PRACTICEJS01/problems/LEARNSQ\n",
    "R, C, E = map(int, input().split())\n",
    "new= (R + E) * C\n",
    "print(new)"
   ]
  }
 ],
 "metadata": {
  "kernelspec": {
   "display_name": "Python 3",
   "language": "python",
   "name": "python3"
  },
  "language_info": {
   "codemirror_mode": {
    "name": "ipython",
    "version": 3
   },
   "file_extension": ".py",
   "mimetype": "text/x-python",
   "name": "python",
   "nbconvert_exporter": "python",
   "pygments_lexer": "ipython3",
   "version": "3.13.2"
  }
 },
 "nbformat": 4,
 "nbformat_minor": 5
}
